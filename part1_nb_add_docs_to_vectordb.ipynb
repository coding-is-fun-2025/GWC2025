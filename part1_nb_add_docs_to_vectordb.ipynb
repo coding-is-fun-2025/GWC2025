{
 "cells": [
  {
   "cell_type": "code",
   "execution_count": null,
   "id": "d457a9f7",
   "metadata": {},
   "outputs": [],
   "source": [
    "############################################################################################ \n",
    "## Step 0. install dependencies, (execute only once)\n",
    "##         note: use python 3.10 for maximum compatibility\n",
    "\n",
    "# install Anaconda https://www.anaconda.com/download/success and VS Code https://code.visualstudio.com/\n",
    "# then create a new conda environment with python 3.10\n",
    "# > conda create -n llm python=3.10\n",
    "# > conda activate llm\n",
    "# then install the dependencies below\n",
    "\n",
    "# run the following commands in Mac Terminal or Windows command prompt (without the #)\n",
    "# pip install langchain chromadb sentence-transformers pymupdf\n",
    "# pip install langchain-community\n",
    "# pip install llama-cpp-python\n",
    "\n",
    "## for visualizations install these dependencies too:\n",
    "# pip install umap-learn pandas scikit-learn matplotlib plotly nbformat\n",
    "\n",
    "## get free textbooks from:\n",
    "# https://open.umn.edu/opentextbooks/subjects\n",
    "#\n",
    "## get free literature classics from:\n",
    "# https://www.gutenberg.org/\n",
    "#\n",
    "############################################################################################"
   ]
  },
  {
   "cell_type": "code",
   "execution_count": null,
   "id": "f55507ab",
   "metadata": {},
   "outputs": [],
   "source": [
    "# # Step 1. load all documents in a folder\n",
    "from langchain.document_loaders import DirectoryLoader, PyMuPDFLoader\n",
    "\n",
    "folder = 'docs_textbooks'  # change this to the folder with your documents\n",
    "loader = DirectoryLoader(\n",
    "    folder,\n",
    "    glob=\"**/*.*\", # use glob to match all files in the folder and sub folders\n",
    "    loader_cls=PyMuPDFLoader\n",
    ")\n",
    "documents = loader.load()\n",
    "\n",
    "print(f'length of documents {len(documents)}')\n",
    "documents[:10] #examine the first 10 rows"
   ]
  },
  {
   "cell_type": "code",
   "execution_count": null,
   "id": "d34103da",
   "metadata": {},
   "outputs": [],
   "source": [
    "# # Step 2. split the documents into chunks\n",
    "from langchain.text_splitter import RecursiveCharacterTextSplitter\n",
    "\n",
    "chunk_size = 1000  # size of each chunk in characters\n",
    "chunk_overlap = 200  # number of characters to overlap between chunks\n",
    "text_splitter = RecursiveCharacterTextSplitter(chunk_size=chunk_size, chunk_overlap=chunk_overlap)\n",
    "all_splits = text_splitter.split_documents(documents)\n",
    "\n",
    "print(f\"length of all_splits {len(all_splits)}\")\n",
    "all_splits[:10]"
   ]
  },
  {
   "cell_type": "code",
   "execution_count": null,
   "id": "89925d6f",
   "metadata": {},
   "outputs": [],
   "source": [
    "# Step 3.b. load the embeddings model \n",
    "from langchain_community.embeddings import LlamaCppEmbeddings\n",
    "\n",
    "embedding_model = LlamaCppEmbeddings(model_path=\"models/all-MiniLM-L6-v2-Q6_K.gguf\")\n"
   ]
  },
  {
   "cell_type": "code",
   "execution_count": null,
   "id": "1918471d",
   "metadata": {},
   "outputs": [],
   "source": [
    "## Save embeddings to a vector database, persist to disk\n",
    "from langchain.vectorstores import Chroma\n",
    "\n",
    "persist_folder = f'chroma_db_c{chunk_size}o{chunk_overlap}_{folder}'\n",
    "vectordb = Chroma.from_documents(documents=all_splits, embedding=embedding_model, persist_directory=persist_folder)\n",
    "\n",
    "print(f'DONE!\\n vector database created at {persist_folder}')"
   ]
  },
  {
   "cell_type": "code",
   "execution_count": null,
   "id": "c0683d9e",
   "metadata": {},
   "outputs": [],
   "source": [
    "# the end!"
   ]
  }
 ],
 "metadata": {
  "kernelspec": {
   "display_name": "llm",
   "language": "python",
   "name": "python3"
  },
  "language_info": {
   "codemirror_mode": {
    "name": "ipython",
    "version": 3
   },
   "file_extension": ".py",
   "mimetype": "text/x-python",
   "name": "python",
   "nbconvert_exporter": "python",
   "pygments_lexer": "ipython3",
   "version": "3.10.18"
  }
 },
 "nbformat": 4,
 "nbformat_minor": 5
}
