{
 "cells": [
  {
   "cell_type": "code",
   "execution_count": null,
   "id": "89925d6f",
   "metadata": {},
   "outputs": [],
   "source": [
    "# Step 2.1 Load the embeddings model\n",
    "from langchain_community.embeddings import LlamaCppEmbeddings\n",
    "\n",
    "embedding_model = LlamaCppEmbeddings(model_path=\"models/all-MiniLM-L6-v2-Q6_K.gguf\")"
   ]
  },
  {
   "cell_type": "code",
   "execution_count": null,
   "id": "3b5f63eb",
   "metadata": {},
   "outputs": [],
   "source": [
    "# Step 2.2. load vector database that was persisted in the past \n",
    "\n",
    "import chromadb\n",
    "from langchain.vectorstores import Chroma\n",
    "\n",
    "persist_folder = 'chroma_db_c1000o200_docs_textbooks' # <-- replace this with the name of your persist folder from part 1\n",
    "client = chromadb.PersistentClient(path=persist_folder) \n",
    "vectordb = Chroma(\n",
    "    client=client,\n",
    "    embedding_function=embedding_model\n",
    ")"
   ]
  },
  {
   "cell_type": "code",
   "execution_count": null,
   "id": "75c42adb",
   "metadata": {},
   "outputs": [],
   "source": [
    "# Step 2.3 retrieve all embeddings and metadata from the vector database\n",
    "data = vectordb.get(include=['embeddings','metadatas'])\n",
    "c_ems = data['embeddings']\n",
    "c_meta = data['metadatas']\n",
    "colors = [ item['source'] for item in c_meta ] # for visualizations, assign color to each source\n"
   ]
  },
  {
   "cell_type": "code",
   "execution_count": null,
   "id": "78b7357d",
   "metadata": {},
   "outputs": [],
   "source": [
    "# Step 2.4 visualize what embeddings look like in 2D\n",
    "\n",
    "# 2d visualization of embeddings\n",
    "import umap\n",
    "import plotly.express as px\n",
    "import numpy as np\n",
    "\n",
    "#reduce to 2d\n",
    "reducer = umap.UMAP(n_components=2)\n",
    "embeddings_2d = reducer.fit_transform(c_ems)\n",
    "\n",
    "#create 2d scatter plot\n",
    "fig = px.scatter(\n",
    "    x=embeddings_2d[:, 0],\n",
    "    y=embeddings_2d[:, 1],\n",
    "    color=colors,\n",
    "    opacity=0.5,\n",
    "    title='2D Visualization of Embeddings',\n",
    "    labels={'x': 'X', 'y': 'Y'},\n",
    "    template='plotly_dark'\n",
    ")\n",
    "fig.update_traces(marker=dict(size=4),\n",
    "                  selector=dict(mode='markers'))\n",
    "fig.update_layout(showlegend=False)\n",
    "fig.show()"
   ]
  },
  {
   "cell_type": "code",
   "execution_count": null,
   "id": "d359bbb6",
   "metadata": {},
   "outputs": [],
   "source": [
    "# Step 2.5 visualize what embeddings look like in 3D\n",
    "\n",
    "# 3d visualization of embeddings\n",
    "import umap\n",
    "import plotly.express as px\n",
    "import numpy as np\n",
    "\n",
    "#reduce to 3d\n",
    "reducer = umap.UMAP(n_components=3)\n",
    "embeddings_3d = reducer.fit_transform(c_ems)\n",
    "\n",
    "#create 3d scatter plot\n",
    "fig = px.scatter_3d(\n",
    "    x=embeddings_3d[:, 0],\n",
    "    y=embeddings_3d[:, 1],\n",
    "    z=embeddings_3d[:, 2],\n",
    "    color=colors,\n",
    "    opacity=0.5,\n",
    "    title='3D Visualization of Embeddings',\n",
    "    labels={'x': 'X', 'y': 'Y', 'z': 'Z'},\n",
    "    template='plotly_dark',\n",
    "    width=1400, height=800,\n",
    ")\n",
    "fig.update_traces(marker=dict(size=2),\n",
    "                  selector=dict(mode='markers'))\n",
    "fig.update_layout(showlegend=False)\n",
    "fig.show()"
   ]
  },
  {
   "cell_type": "code",
   "execution_count": null,
   "id": "c0683d9e",
   "metadata": {},
   "outputs": [],
   "source": [
    "# the end!"
   ]
  }
 ],
 "metadata": {
  "kernelspec": {
   "display_name": "llm",
   "language": "python",
   "name": "python3"
  },
  "language_info": {
   "codemirror_mode": {
    "name": "ipython",
    "version": 3
   },
   "file_extension": ".py",
   "mimetype": "text/x-python",
   "name": "python",
   "nbconvert_exporter": "python",
   "pygments_lexer": "ipython3",
   "version": "3.10.18"
  }
 },
 "nbformat": 4,
 "nbformat_minor": 5
}
